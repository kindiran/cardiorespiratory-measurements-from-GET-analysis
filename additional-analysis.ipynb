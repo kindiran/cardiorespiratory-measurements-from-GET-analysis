{
 "cells": [
  {
   "cell_type": "markdown",
   "id": "2f20d4d8c21c2766",
   "metadata": {},
   "source": [
    "# Find all missing values in combined sports table and replace them with '0'."
   ]
  },
  {
   "cell_type": "code",
   "execution_count": 2,
   "id": "9e9c9fcbd0f34d8e",
   "metadata": {
    "ExecuteTime": {
     "end_time": "2024-08-22T03:47:24.575024Z",
     "start_time": "2024-08-22T03:47:19.956276Z"
    }
   },
   "outputs": [],
   "source": [
    "import pandas as pd\n",
    "file_path1 = './labeled_combined_sports_data.xlsx'\n",
    "combined_sport_data = pd.read_excel(file_path1)"
   ]
  },
  {
   "cell_type": "code",
   "execution_count": 5,
   "id": "e9f0bc64e27c164b",
   "metadata": {
    "ExecuteTime": {
     "end_time": "2024-08-22T03:51:16.812472Z",
     "start_time": "2024-08-22T03:51:16.804362Z"
    }
   },
   "outputs": [
    {
     "name": "stdout",
     "output_type": "stream",
     "text": [
      "       ID     time  RR       VO2  power      Label\n",
      "2255   11  880.232 NaN  2.353032    230        GET\n",
      "2256   11  880.608 NaN  2.353032    230        GET\n",
      "2257   11  880.988 NaN  2.353032    230        GET\n",
      "2258   11  881.372 NaN  2.349761    230        GET\n",
      "2259   11  881.752 NaN  2.349761    230        GET\n",
      "...    ..      ...  ..       ...    ...        ...\n",
      "49099  17  698.352 NaN  1.780817      0  Cool down\n",
      "49100  17  698.692 NaN  1.780817      0  Cool down\n",
      "49101  17  699.036 NaN  1.780817      0  Cool down\n",
      "49102  17  699.376 NaN  1.792050      0  Cool down\n",
      "49103  17  699.720 NaN  1.792050      0  Cool down\n",
      "\n",
      "[1148 rows x 6 columns]\n"
     ]
    }
   ],
   "source": [
    "# find all missing values\n",
    "df_missing_values = combined_sport_data[combined_sport_data.isnull().any(axis=1)]\n",
    "print(df_missing_values)"
   ]
  },
  {
   "cell_type": "code",
   "execution_count": 7,
   "id": "134327922c1c9774",
   "metadata": {
    "ExecuteTime": {
     "end_time": "2024-08-22T03:54:36.455349Z",
     "start_time": "2024-08-22T03:54:36.446362Z"
    }
   },
   "outputs": [
    {
     "name": "stdout",
     "output_type": "stream",
     "text": [
      "       ID     time     RR       VO2  power      Label\n",
      "0      11 -168.600  727.0  0.287147      0    Warm Up\n",
      "1      11 -167.872  728.0  0.287147      0    Warm Up\n",
      "2      11 -167.148  724.0  0.287147      0    Warm Up\n",
      "3      11 -166.484  664.0  0.320580      0    Warm Up\n",
      "4      11 -165.836  648.0  0.320580      0    Warm Up\n",
      "...    ..      ...    ...       ...    ...        ...\n",
      "52057  18  947.288  536.0  0.507071      0  Cool down\n",
      "52058  18  947.816  528.0  0.507071      0  Cool down\n",
      "52059  18  948.344  528.0  0.507071      0  Cool down\n",
      "52060  18  948.884  540.0  0.507071      0  Cool down\n",
      "52061  18  949.424  540.0  0.507071      0  Cool down\n",
      "\n",
      "[52062 rows x 6 columns]\n"
     ]
    }
   ],
   "source": [
    "# replace missing values with '0'\n",
    "combined_sports_replaced_missing_values = combined_sport_data.fillna(0)\n",
    "print(combined_sports_replaced_missing_values)"
   ]
  },
  {
   "cell_type": "markdown",
   "id": "4dc6e572",
   "metadata": {},
   "source": [
    "# Find whether there are any significant difference in VO2 Max between male and female athletes."
   ]
  },
  {
   "cell_type": "markdown",
   "id": "b888ea0b",
   "metadata": {},
   "source": [
    "Analysis: I have used t-test to compare the significant differences in VO2 max between male and female atheletes. \n",
    "A t-test is a statistical test that compares the means of two groups and determines if there is a significant difference between them. In the t-test,  the significance threshold is normally set as 0.05. So, if the t-test result is less than 0.05 , it confirm that there is significant difference betwen the groups."
   ]
  },
  {
   "cell_type": "code",
   "execution_count": 10,
   "id": "56cb624c",
   "metadata": {},
   "outputs": [
    {
     "name": "stdout",
     "output_type": "stream",
     "text": [
      "Result : 5.407866547042615e-184\n",
      "There is a significant difference in VO2 Max between male and female athletes.\n"
     ]
    }
   ],
   "source": [
    "import pandas as pd\n",
    "import scipy.stats as stats\n",
    "\n",
    "import warnings\n",
    "warnings.filterwarnings('ignore')\n",
    "\n",
    "# open sheet \"Athletes\" from source file\n",
    "xls = pd.ExcelFile('./resources/V02Max_Combined.xlsx')\n",
    "df=pd.read_excel(xls,'Athletes')\n",
    "\n",
    "# read combined sport data file\n",
    "df_combined_data=pd.read_excel('combined_sports_data.xlsx')\n",
    "# merge the two data based on ID\n",
    "df_merge_file=df.merge(df_combined_data,on='ID',how='inner')\n",
    "#print(df_merge_file.head())\n",
    "\n",
    "df_merge_file['VO2max']=df_merge_file['VO2']/df_merge_file['Weight']\n",
    "\n",
    "#find male and female vo2max value\n",
    "male_vo2max = df_merge_file[df_merge_file['Gender'] == 'Male']['VO2max'].dropna()\n",
    "female_vo2max = df_merge_file[df_merge_file['Gender'] == 'Female']['VO2max'].dropna()\n",
    "\n",
    "#define statistic\n",
    "df_t_statistics, df_p_value = stats.ttest_ind(male_vo2max, female_vo2max)\n",
    "\n",
    "# display values\n",
    "#print(f\"statistic: {df_t_statistics}\")\n",
    "print(f\"Result : {df_p_value}\")\n",
    "\n",
    "threshold = 0.05\n",
    "#condition\n",
    "if df_p_value < threshold:\n",
    "    print(\"There is a significant difference in VO2 Max between male and female athletes.\")\n",
    "else:\n",
    "    print(\"There is no significant difference in VO2 Max between male and female athletes.\")"
   ]
  },
  {
   "cell_type": "markdown",
   "id": "ec903690",
   "metadata": {},
   "source": [
    "# Visualize the difference in average power between the fencing and triathlon."
   ]
  },
  {
   "cell_type": "markdown",
   "id": "52b7d470",
   "metadata": {},
   "source": [
    "Note : This program requires wordcloud module to be installed in the Jupyter notebook and restart kernal. "
   ]
  },
  {
   "cell_type": "code",
   "execution_count": 25,
   "id": "e995dc39",
   "metadata": {},
   "outputs": [
    {
     "data": {
      "image/png": "[encoded data removed]",
      "text/plain": [
       "<Figure size 800x500 with 1 Axes>"
      ]
     },
     "metadata": {},
     "output_type": "display_data"
    }
   ],
   "source": [
    "import pandas as pd\n",
    "import numpy as np\n",
    "import openpyxl as op\n",
    "import matplotlib.pyplot as matplot\n",
    "import seaborn as sns\n",
    "from wordcloud import WordCloud\n",
    "from sklearn.preprocessing import LabelEncoder\n",
    "\n",
    "xls = pd.ExcelFile('./resources/V02Max_Combined.xlsx')\n",
    "df_kayaking = pd.read_excel(xls, 'Kayaking')\n",
    "df_fencing = pd.read_excel(xls, 'Fencing')\n",
    "df_triathlon = pd.read_excel(xls, 'Triathlon')\n",
    "dfAthletes = pd.read_excel(xls, 'Athletes')\n",
    "\n",
    "df_combined_sport_data = pd.concat([df_kayaking, df_fencing, df_triathlon])\n",
    "\n",
    "average_power_triathlon = df_triathlon['power'].mean()\n",
    "average_power_fencing = df_fencing['power'].mean()\n",
    "\n",
    "categories = ['Triathlon', 'Fencing']\n",
    "average_values = [average_power_triathlon, average_power_fencing]\n",
    "difference = average_power_triathlon - average_power_fencing\n",
    "\n",
    "matplot.figure(figsize=(8, 5))\n",
    "bars = matplot.bar(categories, average_values, color=['blue', 'red'], alpha=0.7)\n",
    "\n",
    "matplot.xlabel('Sports')\n",
    "matplot.ylabel('Average Power Output')\n",
    "matplot.title('Average Power Output for Fencing and Triathlon')\n",
    "\n",
    "matplot.axhline(y=average_power_fencing, color='gray', linestyle='--', label='Average Fencing Power Output')\n",
    "matplot.text(0.5, average_power_fencing + 1, f'Difference: {difference:.2f}', \n",
    "         horizontalalignment='center', color='black')\n",
    "matplot.tight_layout()\n",
    "matplot.show()"
   ]
  }
 ],
 "metadata": {
  "kernelspec": {
   "display_name": "Python 3 (ipykernel)",
   "language": "python",
   "name": "python3"
  },
  "language_info": {
   "codemirror_mode": {
    "name": "ipython",
    "version": 3
   },
   "file_extension": ".py",
   "mimetype": "text/x-python",
   "name": "python",
   "nbconvert_exporter": "python",
   "pygments_lexer": "ipython3",
   "version": "3.10.9"
  }
 },
 "nbformat": 4,
 "nbformat_minor": 5
}
